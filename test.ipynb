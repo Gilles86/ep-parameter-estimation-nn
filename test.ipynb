{
 "cells": [
  {
   "cell_type": "code",
   "execution_count": 4,
   "metadata": {},
   "outputs": [
    {
     "name": "stderr",
     "output_type": "stream",
     "text": [
      "Using TensorFlow backend.\n"
     ]
    }
   ],
   "source": [
    "import keras\n",
    "import matplotlib.pyplot as plt\n",
    "import numpy as np\n",
    "from keras import backend as K\n",
    "from keras.layers import Conv1D, Dense, Input, Concatenate, Reshape, Lambda\n",
    "from keras.utils import plot_model\n",
    "from scipy import stats as ss\n",
    "from IPython.core.display import Image"
   ]
  },
  {
   "cell_type": "code",
   "execution_count": 5,
   "metadata": {},
   "outputs": [],
   "source": [
    "def create_model(n_samples, kernel_size):\n",
    "    # Ratio should be 0 < x < 1, add check later on.\n",
    "    # Model parameters:\n",
    "    N_DENSE_1 = 10  # Other parameters don't depend on this one.\n",
    "    N_DENSE_2 = 40 \n",
    "    \n",
    "    N_IN_DENSE = int(np.ceil((n_samples + kernel_size) / N_DENSE_2))\n",
    "    N_LEN = N_IN_DENSE * N_DENSE_2\n",
    "    KERNEL_SIZE = N_LEN - n_samples + 1\n",
    "\n",
    "    print(\"N_DENSE_1:\", N_DENSE_1, \"\\nN_DENSE_2:\", N_DENSE_2, \"\\nN_IN_DENSE:\", N_IN_DENSE, \"\\nN_LEN:\",\n",
    "          N_LEN, \"\\nKERNEL_SIZE:\", KERNEL_SIZE)\n",
    "    \n",
    "    model = Input(shape=(1,), name='input')\n",
    "    print(\"Shape after input:\", model.shape)\n",
    "    \n",
    "    layer_1 = []\n",
    "    layer_2 = []\n",
    "    \n",
    "    for i in range(N_IN_DENSE): # N_IN_DENSE * N_DENSE_2 - kernel_size of conv = n_samples\n",
    "        layer_1.append(Dense(N_DENSE_1, activation='relu', name='layer_1_{:02d}'.format(i))(model))\n",
    "        layer_2.append(Dense(N_DENSE_2, activation='relu', name='layer_2_{:02d}'.format(i))(layer_1[-1]))\n",
    "    \n",
    "    concat = Concatenate()(layer_2)\n",
    "    print(\"Shape after concat:\", concat.shape)\n",
    "    \n",
    "    reshape = Reshape(target_shape=(N_LEN, 1))(concat)\n",
    "    print(\"Shape after reshape:\", reshape.shape)\n",
    "    \n",
    "    # A higher number of filters eliminates the plateau.\n",
    "    conv = Conv1D(filters=15, kernel_size=KERNEL_SIZE, strides=1)(reshape)\n",
    "    print(\"Kernel size:\", KERNEL_SIZE)\n",
    "    print(\"Shape after conv1d:\", conv.shape)\n",
    "    \n",
    "    avg = Lambda(lambda x: K.sum(x, axis=2), output_shape=lambda s: (s[0], s[1]))(conv)\n",
    "    print(\"Shape after avg:\", avg.shape)\n",
    "    \n",
    "    model = keras.Model(model, avg)\n",
    "    \n",
    "    return model"
   ]
  },
  {
   "cell_type": "code",
   "execution_count": 6,
   "metadata": {},
   "outputs": [],
   "source": [
    "# Parameters to set.\n",
    "N_DATA = 10000  # Number of parameter samples\n",
    "N_SAMPLES = 1000  # Number of data samples\n",
    "\n",
    "# Parameter-specific settings.\n",
    "MIN_MU, MAX_MU = -3, 3\n",
    "MIN_X, MAX_X = -10, 10"
   ]
  },
  {
   "cell_type": "code",
   "execution_count": 7,
   "metadata": {},
   "outputs": [],
   "source": [
    "# Generate spaces.\n",
    "mu = np.linspace(MIN_MU, MAX_MU, N_DATA)\n",
    "x = np.linspace(MIN_X, MAX_X, N_SAMPLES)\n",
    "\n",
    "# Transform mu to match input format.\n",
    "mu = mu[:, np.newaxis]\n",
    "\n",
    "# Sample from standard normal distribution.\n",
    "x_sampled = ss.norm(mu).logpdf(x[np.newaxis, :])"
   ]
  },
  {
   "cell_type": "code",
   "execution_count": 8,
   "metadata": {},
   "outputs": [
    {
     "name": "stdout",
     "output_type": "stream",
     "text": [
      "N_DENSE_1: 10 \n",
      "N_DENSE_2: 40 \n",
      "N_IN_DENSE: 30 \n",
      "N_LEN: 1200 \n",
      "KERNEL_SIZE: 201\n",
      "Shape after input: (?, 1)\n",
      "WARNING:tensorflow:From /home/simon/.local/lib/python3.6/site-packages/tensorflow/python/framework/op_def_library.py:263: colocate_with (from tensorflow.python.framework.ops) is deprecated and will be removed in a future version.\n",
      "Instructions for updating:\n",
      "Colocations handled automatically by placer.\n",
      "Shape after concat: (?, 1200)\n",
      "Shape after reshape: (?, 1200, 1)\n",
      "Kernel size: 201\n",
      "Shape after conv1d: (?, 1000, 15)\n",
      "Shape after avg: (?, 1000)\n",
      "WARNING:tensorflow:From /home/simon/.local/lib/python3.6/site-packages/tensorflow/python/ops/math_ops.py:3066: to_int32 (from tensorflow.python.ops.math_ops) is deprecated and will be removed in a future version.\n",
      "Instructions for updating:\n",
      "Use tf.cast instead.\n",
      "Epoch 1/5\n",
      "10000/10000 [==============================] - 5s 522us/step - loss: 69.8026\n",
      "Epoch 2/5\n",
      "10000/10000 [==============================] - 4s 407us/step - loss: 0.2620\n",
      "Epoch 3/5\n",
      "10000/10000 [==============================] - 4s 404us/step - loss: 0.0745\n",
      "Epoch 4/5\n",
      "10000/10000 [==============================] - 4s 408us/step - loss: 0.0410\n",
      "Epoch 5/5\n",
      "10000/10000 [==============================] - 4s 407us/step - loss: 0.0254\n"
     ]
    },
    {
     "data": {
      "text/plain": [
       "<keras.callbacks.History at 0x7f4bfc726c50>"
      ]
     },
     "execution_count": 8,
     "metadata": {},
     "output_type": "execute_result"
    }
   ],
   "source": [
    "model = create_model(N_SAMPLES, 200)\n",
    "\n",
    "plot_model(model, to_file='model.png')\n",
    "Image(retina=True, filename='model.png')\n",
    "\n",
    "model.compile(optimizer='adam',\n",
    "              loss='mean_squared_error')\n",
    "\n",
    "# What is an acceptable time for fitting?\n",
    "model.fit(mu, x_sampled, shuffle=True, batch_size=25, epochs=5)"
   ]
  },
  {
   "cell_type": "code",
   "execution_count": 9,
   "metadata": {},
   "outputs": [],
   "source": [
    "predictions = model.predict(mu)"
   ]
  },
  {
   "cell_type": "code",
   "execution_count": 10,
   "metadata": {},
   "outputs": [
    {
     "data": {
      "text/plain": [
       "array([-1.79987999])"
      ]
     },
     "execution_count": 10,
     "metadata": {},
     "output_type": "execute_result"
    },
    {
     "data": {
      "image/png": "[encoded data removed]",
      "text/plain": [
       "<Figure size 432x288 with 1 Axes>"
      ]
     },
     "metadata": {
      "needs_background": "light"
     },
     "output_type": "display_data"
    }
   ],
   "source": [
    "ix = 2000\n",
    "plt.plot(x, np.exp(predictions[ix, :]))\n",
    "plt.plot(x, np.exp(x_sampled[ix, :]))\n",
    "mu[ix]"
   ]
  },
  {
   "cell_type": "code",
   "execution_count": null,
   "metadata": {},
   "outputs": [],
   "source": []
  },
  {
   "cell_type": "code",
   "execution_count": null,
   "metadata": {},
   "outputs": [],
   "source": []
  },
  {
   "cell_type": "code",
   "execution_count": null,
   "metadata": {},
   "outputs": [],
   "source": []
  },
  {
   "cell_type": "code",
   "execution_count": null,
   "metadata": {},
   "outputs": [],
   "source": []
  },
  {
   "cell_type": "code",
   "execution_count": null,
   "metadata": {},
   "outputs": [],
   "source": []
  }
 ],
 "metadata": {
  "kernelspec": {
   "display_name": "Python 3",
   "language": "python",
   "name": "python3"
  },
  "language_info": {
   "codemirror_mode": {
    "name": "ipython",
    "version": 3
   },
   "file_extension": ".py",
   "mimetype": "text/x-python",
   "name": "python",
   "nbconvert_exporter": "python",
   "pygments_lexer": "ipython3",
   "version": "3.6.7"
  }
 },
 "nbformat": 4,
 "nbformat_minor": 2
}
